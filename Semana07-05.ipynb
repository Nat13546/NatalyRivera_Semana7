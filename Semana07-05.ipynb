{
 "cells": [
  {
   "cell_type": "markdown",
   "id": "1a05f51a",
   "metadata": {},
   "source": [
    "# SEMANA 07\n",
    "Rivera Caso Nataly Nayely"
   ]
  },
  {
   "cell_type": "markdown",
   "id": "07d7e92c",
   "metadata": {},
   "source": [
    "Temas:\n",
    "    1. Numeros \n",
    "    2. Variables\n",
    "    3. Manejo de cadenas \n",
    "    4. Ingreso de datos por el teclado\n",
    "    5. Operadores"
   ]
  },
  {
   "cell_type": "markdown",
   "id": "c0eb2434",
   "metadata": {},
   "source": [
    "5. Operadores"
   ]
  },
  {
   "cell_type": "code",
   "execution_count": 1,
   "id": "b7972105",
   "metadata": {},
   "outputs": [],
   "source": [
    "#Operadores aritmeticos\n",
    "#Se tiene: +, -, *, /, **, %, //"
   ]
  },
  {
   "cell_type": "code",
   "execution_count": 2,
   "id": "1272a188",
   "metadata": {},
   "outputs": [
    {
     "name": "stdout",
     "output_type": "stream",
     "text": [
      "13\n",
      "7\n",
      "30\n",
      "3.3333333333333335\n",
      "1\n",
      "3\n",
      "1000\n"
     ]
    }
   ],
   "source": [
    "numero1=10\n",
    "numero2=3\n",
    "suma=numero1+numero2\n",
    "resta=numero1-numero2\n",
    "multiplicacion=numero1*numero2\n",
    "division=numero1/numero2\n",
    "residuo=numero1%numero2\n",
    "cociente=numero1//numero2\n",
    "potencia=numero1**numero2\n",
    "print(\"la suma es:\"suma)\n",
    "print(\"la resta es:\" resta)\n",
    "print(\"la suma es:\" multiplicacion)\n",
    "print(\"la suma es:\" division)\n",
    "print(\"la suma es:\" residuo)\n",
    "print(\"la suma es:\" cociente)\n",
    "print(\"la suma es:\" potencia)"
   ]
  },
  {
   "cell_type": "code",
   "execution_count": null,
   "id": "9d835020",
   "metadata": {},
   "outputs": [],
   "source": []
  }
 ],
 "metadata": {
  "kernelspec": {
   "display_name": "Python 3 (ipykernel)",
   "language": "python",
   "name": "python3"
  },
  "language_info": {
   "codemirror_mode": {
    "name": "ipython",
    "version": 3
   },
   "file_extension": ".py",
   "mimetype": "text/x-python",
   "name": "python",
   "nbconvert_exporter": "python",
   "pygments_lexer": "ipython3",
   "version": "3.9.12"
  }
 },
 "nbformat": 4,
 "nbformat_minor": 5
}
