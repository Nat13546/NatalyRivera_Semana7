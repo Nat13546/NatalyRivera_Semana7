{
 "cells": [
  {
   "cell_type": "markdown",
   "id": "083f9486",
   "metadata": {},
   "source": [
    "# SEMANA 07\n",
    "Rivera Caso Nataly Nayely"
   ]
  },
  {
   "cell_type": "markdown",
   "id": "510a576c",
   "metadata": {},
   "source": [
    "Temas:\n",
    "    1. Numeros \n",
    "    2. Variables\n",
    "    3. Manejo de cadenas \n",
    "    4. Ingreso de datos por el teclado\n",
    "    5. Operadores"
   ]
  },
  {
   "cell_type": "markdown",
   "id": "96afc1c9",
   "metadata": {},
   "source": [
    "5. Operadores"
   ]
  },
  {
   "cell_type": "code",
   "execution_count": 1,
   "id": "f702b74a",
   "metadata": {},
   "outputs": [],
   "source": [
    "#5.1 Operadores aritmeticos\n",
    "#Se tiene: +, -, *, /, **, %, //"
   ]
  },
  {
   "cell_type": "code",
   "execution_count": 2,
   "id": "00f47e07",
   "metadata": {},
   "outputs": [
    {
     "name": "stdout",
     "output_type": "stream",
     "text": [
      "la suma es: 13\n",
      "la resta es: 7\n",
      "la multiplicacion es: 30\n",
      "la divisio es: 3.3333333333333335\n",
      "la residuo es: 1\n",
      "la cociente es: 3\n",
      "la potencia es: 1000\n"
     ]
    }
   ],
   "source": [
    "numero1=10\n",
    "numero2=3\n",
    "suma=numero1+numero2\n",
    "resta=numero1-numero2\n",
    "multiplicacion=numero1*numero2\n",
    "division=numero1/numero2\n",
    "residuo=numero1%numero2\n",
    "cociente=numero1//numero2\n",
    "potencia=numero1**numero2\n",
    "print(\"la suma es:\", suma)\n",
    "print(\"la resta es:\", resta)\n",
    "print(\"la multiplicacion es:\", multiplicacion)\n",
    "print(\"la divisio es:\", division)\n",
    "print(\"la residuo es:\", residuo)\n",
    "print(\"la cociente es:\", cociente)\n",
    "print(\"la potencia es:\", potencia)"
   ]
  },
  {
   "cell_type": "code",
   "execution_count": 3,
   "id": "d70431f6",
   "metadata": {},
   "outputs": [
    {
     "name": "stdout",
     "output_type": "stream",
     "text": [
      "8\n"
     ]
    }
   ],
   "source": [
    "# 5.2 Operadores de asignación\n",
    "#Se tiene: =, +=, -=, /=, **=\n",
    "numero = 5 \n",
    "numero = numero + 3\n",
    "print(numero)"
   ]
  },
  {
   "cell_type": "code",
   "execution_count": 4,
   "id": "64328ea4",
   "metadata": {},
   "outputs": [
    {
     "name": "stdout",
     "output_type": "stream",
     "text": [
      "8\n"
     ]
    }
   ],
   "source": [
    "numero=5\n",
    "numero+=3\n",
    "print(numero)"
   ]
  },
  {
   "cell_type": "code",
   "execution_count": 5,
   "id": "9664761e",
   "metadata": {},
   "outputs": [
    {
     "name": "stdout",
     "output_type": "stream",
     "text": [
      "125\n"
     ]
    }
   ],
   "source": [
    "#Otro ejemplo\n",
    "numero=5\n",
    "numero = numero ** 3\n",
    "print (numero)"
   ]
  },
  {
   "cell_type": "code",
   "execution_count": 6,
   "id": "e6fdf343",
   "metadata": {},
   "outputs": [
    {
     "name": "stdout",
     "output_type": "stream",
     "text": [
      "125\n"
     ]
    }
   ],
   "source": [
    "#LA OPERACION ANTERIOR TAMBIÉN SE PUEDE EXPRESAE DE LA SGTE FORMA:\n",
    "numero =5\n",
    "numero **=3\n",
    "print(numero)"
   ]
  },
  {
   "cell_type": "code",
   "execution_count": 7,
   "id": "b7136d25",
   "metadata": {},
   "outputs": [],
   "source": [
    "#5.3 Operadores de comparacion\n",
    "# Se tiene: ==, !=, <, >, <=, >=,"
   ]
  },
  {
   "cell_type": "code",
   "execution_count": 8,
   "id": "47f2a33d",
   "metadata": {},
   "outputs": [
    {
     "data": {
      "text/plain": [
       "False"
      ]
     },
     "execution_count": 8,
     "metadata": {},
     "output_type": "execute_result"
    }
   ],
   "source": [
    "#Ejm de igualdad\n",
    "numero1=5\n",
    "numero2=2\n",
    "numero1==numero2"
   ]
  },
  {
   "cell_type": "code",
   "execution_count": 9,
   "id": "5754dc83",
   "metadata": {},
   "outputs": [
    {
     "data": {
      "text/plain": [
       "True"
      ]
     },
     "execution_count": 9,
     "metadata": {},
     "output_type": "execute_result"
    }
   ],
   "source": [
    "#Con las cadenas funciona igual\n",
    "nombre1= \"Nataly\"\n",
    "nombre2= \"Nataly\"\n",
    "nombre1==nombre2"
   ]
  },
  {
   "cell_type": "code",
   "execution_count": 10,
   "id": "1f93ba28",
   "metadata": {},
   "outputs": [],
   "source": [
    "#5.4 Operadores lógicos\n",
    "#Se tiene and, or, not\n",
    "numero1=5\n",
    "numero2=6\n",
    "numero3=7\n",
    "numero4=8"
   ]
  },
  {
   "cell_type": "code",
   "execution_count": 11,
   "id": "3f32b9fd",
   "metadata": {},
   "outputs": [
    {
     "data": {
      "text/plain": [
       "True"
      ]
     },
     "execution_count": 11,
     "metadata": {},
     "output_type": "execute_result"
    }
   ],
   "source": [
    "numero1 < numero2"
   ]
  },
  {
   "cell_type": "code",
   "execution_count": 12,
   "id": "800f104e",
   "metadata": {},
   "outputs": [
    {
     "data": {
      "text/plain": [
       "False"
      ]
     },
     "execution_count": 12,
     "metadata": {},
     "output_type": "execute_result"
    }
   ],
   "source": [
    "#El not invierte el resultado\n",
    "not(numero1 < numero2)"
   ]
  },
  {
   "cell_type": "code",
   "execution_count": 13,
   "id": "15c4e7a0",
   "metadata": {},
   "outputs": [
    {
     "data": {
      "text/plain": [
       "True"
      ]
     },
     "execution_count": 13,
     "metadata": {},
     "output_type": "execute_result"
    }
   ],
   "source": [
    "numero1 < numero2 and numero3 < numero4"
   ]
  },
  {
   "cell_type": "code",
   "execution_count": 14,
   "id": "b2453c41",
   "metadata": {},
   "outputs": [
    {
     "data": {
      "text/plain": [
       "True"
      ]
     },
     "execution_count": 14,
     "metadata": {},
     "output_type": "execute_result"
    }
   ],
   "source": [
    "#Tambien puedes usar parentesis para ordenar tu operacion\n",
    "(numero1 < numero2 and numero3 < numero4) or (numero3 > numero4)"
   ]
  },
  {
   "cell_type": "code",
   "execution_count": 15,
   "id": "40ca2434",
   "metadata": {},
   "outputs": [],
   "source": [
    "#5.5 Operadores de pertenencia\n",
    "#Se tiene: in, not in"
   ]
  },
  {
   "cell_type": "code",
   "execution_count": 16,
   "id": "0d310e6d",
   "metadata": {},
   "outputs": [],
   "source": [
    "#Miremos un ejemplo:\n",
    "aula=[\"Nataly\", \"Nayely\", \"Jasmin\"]\n",
    "alumno1=\"Juan\"\n",
    "alumno2=\"Nataly\""
   ]
  },
  {
   "cell_type": "code",
   "execution_count": 17,
   "id": "3f8eef2a",
   "metadata": {},
   "outputs": [
    {
     "data": {
      "text/plain": [
       "False"
      ]
     },
     "execution_count": 17,
     "metadata": {},
     "output_type": "execute_result"
    }
   ],
   "source": [
    "# ¿Juan esta en aula?\n",
    "alumno1 in aula"
   ]
  },
  {
   "cell_type": "code",
   "execution_count": 18,
   "id": "39119aa8",
   "metadata": {},
   "outputs": [
    {
     "data": {
      "text/plain": [
       "True"
      ]
     },
     "execution_count": 18,
     "metadata": {},
     "output_type": "execute_result"
    }
   ],
   "source": [
    "# ¿Nataly esta en aula?\n",
    "alumno2 in aula"
   ]
  },
  {
   "cell_type": "code",
   "execution_count": 19,
   "id": "ac2a9a53",
   "metadata": {},
   "outputs": [
    {
     "data": {
      "text/plain": [
       "True"
      ]
     },
     "execution_count": 19,
     "metadata": {},
     "output_type": "execute_result"
    }
   ],
   "source": [
    "alumno1 not in aula"
   ]
  },
  {
   "cell_type": "code",
   "execution_count": 20,
   "id": "c5e5ec6d",
   "metadata": {},
   "outputs": [
    {
     "data": {
      "text/plain": [
       "False"
      ]
     },
     "execution_count": 20,
     "metadata": {},
     "output_type": "execute_result"
    }
   ],
   "source": [
    "alumno2 not in aula"
   ]
  },
  {
   "cell_type": "code",
   "execution_count": 21,
   "id": "69ca271b",
   "metadata": {},
   "outputs": [],
   "source": [
    "#5.6 Operadores de identidad\n",
    "#Se tiene: is, is not"
   ]
  },
  {
   "cell_type": "code",
   "execution_count": 22,
   "id": "fac75711",
   "metadata": {},
   "outputs": [],
   "source": [
    "aula1=[\"Nataly\", \"Nayely\", \"Jasmin\"]\n",
    "aula2=[\"Nataly\", \"Nayely\", \"Jasmin\"]\n",
    "aula3=aula1"
   ]
  },
  {
   "cell_type": "code",
   "execution_count": 23,
   "id": "cd515cdc",
   "metadata": {},
   "outputs": [
    {
     "data": {
      "text/plain": [
       "True"
      ]
     },
     "execution_count": 23,
     "metadata": {},
     "output_type": "execute_result"
    }
   ],
   "source": [
    "aula3 is aula1"
   ]
  },
  {
   "cell_type": "code",
   "execution_count": 24,
   "id": "24d63bdc",
   "metadata": {},
   "outputs": [
    {
     "data": {
      "text/plain": [
       "False"
      ]
     },
     "execution_count": 24,
     "metadata": {},
     "output_type": "execute_result"
    }
   ],
   "source": [
    "aula3 is aula2"
   ]
  },
  {
   "cell_type": "code",
   "execution_count": 25,
   "id": "0ef21b3f",
   "metadata": {},
   "outputs": [
    {
     "data": {
      "text/plain": [
       "False"
      ]
     },
     "execution_count": 25,
     "metadata": {},
     "output_type": "execute_result"
    }
   ],
   "source": [
    "#¿aula2 comparte el mismo objeto que aula1?\n",
    "aula2 is aula1"
   ]
  },
  {
   "cell_type": "code",
   "execution_count": 26,
   "id": "e6cc033b",
   "metadata": {},
   "outputs": [],
   "source": [
    "aula1.append(\"Brighit\")"
   ]
  },
  {
   "cell_type": "code",
   "execution_count": 27,
   "id": "fc780159",
   "metadata": {},
   "outputs": [
    {
     "name": "stdout",
     "output_type": "stream",
     "text": [
      "['Nataly', 'Nayely', 'Jasmin', 'Brighit']\n"
     ]
    }
   ],
   "source": [
    "#Al imprimir los elementos de la lista aula1 se observa\n",
    "print(aula1)"
   ]
  },
  {
   "cell_type": "code",
   "execution_count": 28,
   "id": "291260dc",
   "metadata": {},
   "outputs": [
    {
     "name": "stdout",
     "output_type": "stream",
     "text": [
      "['Nataly', 'Nayely', 'Jasmin', 'Brighit']\n"
     ]
    }
   ],
   "source": [
    "#Al imprimir los elementos de la lista aula3 se observa\n",
    "print(aula3)"
   ]
  },
  {
   "cell_type": "code",
   "execution_count": 29,
   "id": "0fcc887b",
   "metadata": {},
   "outputs": [
    {
     "name": "stdout",
     "output_type": "stream",
     "text": [
      "['Nataly', 'Nayely', 'Jasmin']\n"
     ]
    }
   ],
   "source": [
    "#Al imprimir los elementos de la lista aula2 se observa\n",
    "print(aula2)"
   ]
  },
  {
   "cell_type": "code",
   "execution_count": null,
   "id": "6ebb3bbb",
   "metadata": {},
   "outputs": [],
   "source": []
  }
 ],
 "metadata": {
  "kernelspec": {
   "display_name": "Python 3 (ipykernel)",
   "language": "python",
   "name": "python3"
  },
  "language_info": {
   "codemirror_mode": {
    "name": "ipython",
    "version": 3
   },
   "file_extension": ".py",
   "mimetype": "text/x-python",
   "name": "python",
   "nbconvert_exporter": "python",
   "pygments_lexer": "ipython3",
   "version": "3.9.12"
  }
 },
 "nbformat": 4,
 "nbformat_minor": 5
}
